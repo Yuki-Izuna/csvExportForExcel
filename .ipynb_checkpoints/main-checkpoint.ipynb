{
 "cells": [
  {
   "cell_type": "code",
   "execution_count": 49,
   "metadata": {},
   "outputs": [],
   "source": [
    "import pandas as pd\n",
    "import shutil\n",
    "import os\n",
    "from glob import glob\n",
    "\n",
    "# ファイルリスト取得\n",
    "csv_filepaths = glob('source/*.csv')\n",
    "\n",
    "for csv_filepath in csv_filepaths:\n",
    "\n",
    "    # ファイルパスからファイル名だけ抜き取る\n",
    "    filename = os.path.splitext(os.path.basename(csv_filepath))[0]\n",
    "    graf_filepath = './source/' + filename + '.xlsx'\n",
    "\n",
    "    # テンプレートファイルを別名でコピー\n",
    "    shutil.copy('./source/graf_template.xlsx', graf_filepath)\n",
    "\n",
    "    # CSVをグラフ用のExcelに展開する\n",
    "    _df = pd.read_csv(csv_filepath)\n",
    "    _df.to_excel(graf_filepath, sheet_name='Sheet1', index=False, header=False)"
   ]
  },
  {
   "cell_type": "code",
   "execution_count": null,
   "metadata": {},
   "outputs": [],
   "source": []
  }
 ],
 "metadata": {
  "kernelspec": {
   "display_name": "Python 3",
   "language": "python",
   "name": "python3"
  },
  "language_info": {
   "codemirror_mode": {
    "name": "ipython",
    "version": 3
   },
   "file_extension": ".py",
   "mimetype": "text/x-python",
   "name": "python",
   "nbconvert_exporter": "python",
   "pygments_lexer": "ipython3",
   "version": "3.8.5"
  }
 },
 "nbformat": 4,
 "nbformat_minor": 4
}
